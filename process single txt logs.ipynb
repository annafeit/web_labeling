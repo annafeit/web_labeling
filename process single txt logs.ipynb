{
 "cells": [
  {
   "cell_type": "code",
   "execution_count": 1,
   "metadata": {
    "collapsed": false
   },
   "outputs": [],
   "source": [
    "import pandas as pd\n",
    "import numpy as np\n",
    "import glob, os\n",
    "from utils import *\n",
    "from augment import *\n",
    "import seaborn as sns\n",
    "import matplotlib.pyplot as plt\n",
    "import cPickle\n",
    "\n",
    "sns.set_style(\"whitegrid\")\n",
    "\n",
    "%matplotlib inline\n",
    "\n",
    "label_numbers =  {\"Button\":0, \"Icon\":1, \"Image\":2, \"Input field\":3,  \"Text\":4, \"Navigation Menu\":5}\n",
    "number_label = {0:\"Button\", 1:\"Icon\", 2:\"Image\", 3:\"Input field\",  4:\"Text\", 5: \"Navigation Menu\"}"
   ]
  },
  {
   "cell_type": "code",
   "execution_count": 2,
   "metadata": {
    "collapsed": false
   },
   "outputs": [
    {
     "data": {
      "text/html": [
       "<div>\n",
       "<table border=\"1\" class=\"dataframe\">\n",
       "  <thead>\n",
       "    <tr style=\"text-align: right;\">\n",
       "      <th></th>\n",
       "      <th>id</th>\n",
       "      <th>x_abs</th>\n",
       "      <th>y_abs</th>\n",
       "      <th>x_rel</th>\n",
       "      <th>y_rel</th>\n",
       "      <th>width</th>\n",
       "      <th>height</th>\n",
       "      <th>label</th>\n",
       "      <th>filename</th>\n",
       "    </tr>\n",
       "  </thead>\n",
       "  <tbody>\n",
       "    <tr>\n",
       "      <th>0</th>\n",
       "      <td>0</td>\n",
       "      <td>233</td>\n",
       "      <td>517</td>\n",
       "      <td>0.21181818181818182</td>\n",
       "      <td>0.7230769230769231</td>\n",
       "      <td>94</td>\n",
       "      <td>41</td>\n",
       "      <td>Image</td>\n",
       "      <td>04</td>\n",
       "    </tr>\n",
       "    <tr>\n",
       "      <th>1</th>\n",
       "      <td>1</td>\n",
       "      <td>359</td>\n",
       "      <td>522</td>\n",
       "      <td>0.32636363636363636</td>\n",
       "      <td>0.73006993006993</td>\n",
       "      <td>362</td>\n",
       "      <td>32</td>\n",
       "      <td>Navigation Menu</td>\n",
       "      <td>04</td>\n",
       "    </tr>\n",
       "    <tr>\n",
       "      <th>2</th>\n",
       "      <td>2</td>\n",
       "      <td>748</td>\n",
       "      <td>520</td>\n",
       "      <td>0.68</td>\n",
       "      <td>0.7272727272727273</td>\n",
       "      <td>23</td>\n",
       "      <td>31</td>\n",
       "      <td>Icon</td>\n",
       "      <td>04</td>\n",
       "    </tr>\n",
       "    <tr>\n",
       "      <th>3</th>\n",
       "      <td>3</td>\n",
       "      <td>776</td>\n",
       "      <td>524</td>\n",
       "      <td>0.7054545454545454</td>\n",
       "      <td>0.7328671328671329</td>\n",
       "      <td>15</td>\n",
       "      <td>26</td>\n",
       "      <td>Icon</td>\n",
       "      <td>04</td>\n",
       "    </tr>\n",
       "    <tr>\n",
       "      <th>4</th>\n",
       "      <td>4</td>\n",
       "      <td>796</td>\n",
       "      <td>525</td>\n",
       "      <td>0.7236363636363636</td>\n",
       "      <td>0.7342657342657343</td>\n",
       "      <td>18</td>\n",
       "      <td>25</td>\n",
       "      <td>Icon</td>\n",
       "      <td>04</td>\n",
       "    </tr>\n",
       "  </tbody>\n",
       "</table>\n",
       "</div>"
      ],
      "text/plain": [
       "  id x_abs y_abs                x_rel               y_rel width height  \\\n",
       "0  0   233   517  0.21181818181818182  0.7230769230769231    94     41   \n",
       "1  1   359   522  0.32636363636363636    0.73006993006993   362     32   \n",
       "2  2   748   520                 0.68  0.7272727272727273    23     31   \n",
       "3  3   776   524   0.7054545454545454  0.7328671328671329    15     26   \n",
       "4  4   796   525   0.7236363636363636  0.7342657342657343    18     25   \n",
       "\n",
       "             label filename  \n",
       "0            Image       04  \n",
       "1  Navigation Menu       04  \n",
       "2             Icon       04  \n",
       "3             Icon       04  \n",
       "4             Icon       04  "
      ]
     },
     "execution_count": 2,
     "metadata": {},
     "output_type": "execute_result"
    }
   ],
   "source": [
    "#df = read_txts_and_combine() #uncomment if you want to reread all .txt logs into one .csv\n",
    "df = pd.read_csv(\"../img_labeled/logs/log_all.csv\")\n",
    "df.head()"
   ]
  },
  {
   "cell_type": "code",
   "execution_count": 3,
   "metadata": {
    "collapsed": false
   },
   "outputs": [
    {
     "name": "stdout",
     "output_type": "stream",
     "text": [
      "Number of labeled webpages: 103\n",
      "Number of labels: 1809\n"
     ]
    }
   ],
   "source": [
    "print \"Number of labeled webpages: %i\"%(len(df.groupby(\"filename\")))\n",
    "print \"Number of labels: %i\"%(len(df))"
   ]
  },
  {
   "cell_type": "code",
   "execution_count": 4,
   "metadata": {
    "collapsed": false
   },
   "outputs": [
    {
     "name": "stdout",
     "output_type": "stream",
     "text": [
      "Number of labels per category:\n",
      "label\n",
      "Button             190\n",
      "Form                70\n",
      "Icon               273\n",
      "Image              259\n",
      "Input field        164\n",
      "Line               111\n",
      "List                95\n",
      "Navigation Menu    119\n",
      "Rating bar           1\n",
      "Slider              12\n",
      "Text               465\n",
      "Video               18\n",
      "label               32\n",
      "Name: id, dtype: int64\n"
     ]
    }
   ],
   "source": [
    "print \"Number of labels per category:\"\n",
    "print df.groupby(\"label\").count().id"
   ]
  },
  {
   "cell_type": "code",
   "execution_count": 5,
   "metadata": {
    "collapsed": false
   },
   "outputs": [
    {
     "data": {
      "text/plain": [
       "<matplotlib.axes._subplots.AxesSubplot at 0xc4946a0>"
      ]
     },
     "execution_count": 5,
     "metadata": {},
     "output_type": "execute_result"
    },
    {
     "data": {
      "image/png": "[encoded data removed]",
      "text/plain": [
       "<matplotlib.figure.Figure at 0x6d2f0b8>"
      ]
     },
     "metadata": {},
     "output_type": "display_data"
    }
   ],
   "source": [
    "df.groupby(\"label\").count().id.plot(kind=\"bar\")#, color=sns.color_palette()[0])"
   ]
  },
  {
   "cell_type": "code",
   "execution_count": 6,
   "metadata": {
    "collapsed": false
   },
   "outputs": [
    {
     "name": "stdout",
     "output_type": "stream",
     "text": [
      "1470 labels left\n"
     ]
    }
   ],
   "source": [
    "#only take the labels for which we have at least 100 entries\n",
    "df = filter_top_100(df)\n",
    "print(\"%i labels left\"%len(df))"
   ]
  },
  {
   "cell_type": "code",
   "execution_count": 7,
   "metadata": {
    "collapsed": false
   },
   "outputs": [],
   "source": [
    "pickle_images(\"../img_labeled/logs/\", df, 32)\n",
    "pickle_images(\"../img_labeled/logs/\", df, 64)\n",
    "pickle_images(\"../img_labeled/logs/\", df, 128)"
   ]
  },
  {
   "cell_type": "code",
   "execution_count": 8,
   "metadata": {
    "collapsed": false
   },
   "outputs": [],
   "source": [
    "path = \"data_128.pkl\"\n",
    "x_train, y_train, x_test, y_test = load_pickle(path)"
   ]
  },
  {
   "cell_type": "code",
   "execution_count": 10,
   "metadata": {
    "collapsed": false
   },
   "outputs": [
    {
     "data": {
      "text/plain": [
       "(<matplotlib.figure.Figure at 0xc8debe0>,\n",
       " <matplotlib.axes._subplots.AxesSubplot at 0xded9240>)"
      ]
     },
     "execution_count": 10,
     "metadata": {},
     "output_type": "execute_result"
    },
    {
     "data": {
      "image/png": "[encoded data removed]",
      "text/plain": [
       "<matplotlib.figure.Figure at 0xc8debe0>"
      ]
     },
     "metadata": {},
     "output_type": "display_data"
    }
   ],
   "source": [
    "plot_image(x_train[100])"
   ]
  },
  {
   "cell_type": "code",
   "execution_count": 22,
   "metadata": {
    "collapsed": false,
    "scrolled": false
   },
   "outputs": [
    {
     "data": {
      "text/plain": [
       "array([[[[ 0.        ,  0.        ,  0.        , ...,  0.        ,\n",
       "           0.        ,  0.        ],\n",
       "         [ 0.        ,  0.        ,  0.        , ...,  0.        ,\n",
       "           0.        ,  0.        ],\n",
       "         [ 0.        ,  0.        ,  0.        , ...,  0.        ,\n",
       "           0.        ,  0.        ],\n",
       "         ..., \n",
       "         [ 1.        ,  1.        ,  1.        , ...,  1.        ,\n",
       "           1.        ,  1.        ],\n",
       "         [ 1.        ,  1.        ,  1.        , ...,  1.        ,\n",
       "           1.        ,  1.        ],\n",
       "         [ 1.        ,  1.        ,  1.        , ...,  1.        ,\n",
       "           1.        ,  1.        ]],\n",
       "\n",
       "        [[ 0.        ,  0.        ,  0.        , ...,  0.        ,\n",
       "           0.        ,  0.        ],\n",
       "         [ 0.        ,  0.        ,  0.        , ...,  0.        ,\n",
       "           0.        ,  0.        ],\n",
       "         [ 0.        ,  0.        ,  0.        , ...,  0.        ,\n",
       "           0.        ,  0.        ],\n",
       "         ..., \n",
       "         [ 1.        ,  1.        ,  1.        , ...,  1.        ,\n",
       "           1.        ,  1.        ],\n",
       "         [ 1.        ,  1.        ,  1.        , ...,  1.        ,\n",
       "           1.        ,  1.        ],\n",
       "         [ 1.        ,  1.        ,  1.        , ...,  1.        ,\n",
       "           1.        ,  1.        ]],\n",
       "\n",
       "        [[ 0.        ,  0.        ,  0.        , ...,  0.        ,\n",
       "           0.        ,  0.        ],\n",
       "         [ 0.        ,  0.        ,  0.        , ...,  0.        ,\n",
       "           0.        ,  0.        ],\n",
       "         [ 0.        ,  0.        ,  0.        , ...,  0.        ,\n",
       "           0.        ,  0.        ],\n",
       "         ..., \n",
       "         [ 1.        ,  1.        ,  1.        , ...,  1.        ,\n",
       "           1.        ,  1.        ],\n",
       "         [ 1.        ,  1.        ,  1.        , ...,  1.        ,\n",
       "           1.        ,  1.        ],\n",
       "         [ 1.        ,  1.        ,  1.        , ...,  1.        ,\n",
       "           1.        ,  1.        ]]],\n",
       "\n",
       "\n",
       "       [[[ 1.        ,  1.        ,  1.        , ...,  1.        ,\n",
       "           1.        ,  1.        ],\n",
       "         [ 1.        ,  1.        ,  1.        , ...,  1.        ,\n",
       "           1.        ,  1.        ],\n",
       "         [ 1.        ,  1.        ,  1.        , ...,  1.        ,\n",
       "           1.        ,  1.        ],\n",
       "         ..., \n",
       "         [ 1.        ,  1.        ,  1.        , ...,  1.        ,\n",
       "           1.        ,  1.        ],\n",
       "         [ 1.        ,  1.        ,  1.        , ...,  1.        ,\n",
       "           1.        ,  1.        ],\n",
       "         [ 1.        ,  1.        ,  1.        , ...,  1.        ,\n",
       "           1.        ,  1.        ]],\n",
       "\n",
       "        [[ 1.        ,  1.        ,  1.        , ...,  1.        ,\n",
       "           1.        ,  1.        ],\n",
       "         [ 1.        ,  1.        ,  1.        , ...,  1.        ,\n",
       "           1.        ,  1.        ],\n",
       "         [ 1.        ,  1.        ,  1.        , ...,  1.        ,\n",
       "           1.        ,  1.        ],\n",
       "         ..., \n",
       "         [ 1.        ,  1.        ,  1.        , ...,  1.        ,\n",
       "           1.        ,  1.        ],\n",
       "         [ 1.        ,  1.        ,  1.        , ...,  1.        ,\n",
       "           1.        ,  1.        ],\n",
       "         [ 1.        ,  1.        ,  1.        , ...,  1.        ,\n",
       "           1.        ,  1.        ]],\n",
       "\n",
       "        [[ 1.        ,  1.        ,  1.        , ...,  1.        ,\n",
       "           1.        ,  1.        ],\n",
       "         [ 1.        ,  1.        ,  1.        , ...,  1.        ,\n",
       "           1.        ,  1.        ],\n",
       "         [ 1.        ,  1.        ,  1.        , ...,  1.        ,\n",
       "           1.        ,  1.        ],\n",
       "         ..., \n",
       "         [ 1.        ,  1.        ,  1.        , ...,  1.        ,\n",
       "           1.        ,  1.        ],\n",
       "         [ 1.        ,  1.        ,  1.        , ...,  1.        ,\n",
       "           1.        ,  1.        ],\n",
       "         [ 1.        ,  1.        ,  1.        , ...,  1.        ,\n",
       "           1.        ,  1.        ]]],\n",
       "\n",
       "\n",
       "       [[[ 0.86666667,  0.86666667,  0.87450981, ...,  0.87450981,\n",
       "           0.85490197,  0.86666667],\n",
       "         [ 0.86666667,  0.88627452,  0.88627452, ...,  0.86666667,\n",
       "           0.85490197,  0.87450981],\n",
       "         [ 0.88627452,  0.86666667,  0.88627452, ...,  0.86666667,\n",
       "           0.85490197,  0.85490197],\n",
       "         ..., \n",
       "         [ 1.        ,  1.        ,  1.        , ...,  1.        ,\n",
       "           1.        ,  1.        ],\n",
       "         [ 1.        ,  1.        ,  1.        , ...,  1.        ,\n",
       "           1.        ,  1.        ],\n",
       "         [ 1.        ,  1.        ,  1.        , ...,  1.        ,\n",
       "           1.        ,  1.        ]],\n",
       "\n",
       "        [[ 0.80000001,  0.80000001,  0.81176472, ...,  0.81176472,\n",
       "           0.78431374,  0.80000001],\n",
       "         [ 0.80000001,  0.83137256,  0.83137256, ...,  0.80000001,\n",
       "           0.78431374,  0.81176472],\n",
       "         [ 0.83137256,  0.80000001,  0.83137256, ...,  0.80000001,\n",
       "           0.78431374,  0.78431374],\n",
       "         ..., \n",
       "         [ 1.        ,  1.        ,  1.        , ...,  1.        ,\n",
       "           1.        ,  1.        ],\n",
       "         [ 1.        ,  1.        ,  1.        , ...,  1.        ,\n",
       "           1.        ,  1.        ],\n",
       "         [ 1.        ,  1.        ,  1.        , ...,  1.        ,\n",
       "           1.        ,  1.        ]],\n",
       "\n",
       "        [[ 0.63529414,  0.63529414,  0.65882355, ...,  0.65882355,\n",
       "           0.61176473,  0.63529414],\n",
       "         [ 0.63529414,  0.69411767,  0.69411767, ...,  0.63529414,\n",
       "           0.61176473,  0.65882355],\n",
       "         [ 0.69411767,  0.63529414,  0.69411767, ...,  0.63529414,\n",
       "           0.61176473,  0.61176473],\n",
       "         ..., \n",
       "         [ 1.        ,  1.        ,  1.        , ...,  1.        ,\n",
       "           1.        ,  1.        ],\n",
       "         [ 1.        ,  1.        ,  1.        , ...,  1.        ,\n",
       "           1.        ,  1.        ],\n",
       "         [ 1.        ,  1.        ,  1.        , ...,  1.        ,\n",
       "           1.        ,  1.        ]]],\n",
       "\n",
       "\n",
       "       ..., \n",
       "       [[[ 1.        ,  1.        ,  1.        , ...,  1.        ,\n",
       "           1.        ,  1.        ],\n",
       "         [ 1.        ,  1.        ,  1.        , ...,  1.        ,\n",
       "           1.        ,  1.        ],\n",
       "         [ 1.        ,  1.        ,  1.        , ...,  1.        ,\n",
       "           1.        ,  1.        ],\n",
       "         ..., \n",
       "         [ 1.        ,  1.        ,  1.        , ...,  1.        ,\n",
       "           1.        ,  1.        ],\n",
       "         [ 1.        ,  1.        ,  1.        , ...,  1.        ,\n",
       "           1.        ,  1.        ],\n",
       "         [ 1.        ,  1.        ,  1.        , ...,  1.        ,\n",
       "           1.        ,  1.        ]],\n",
       "\n",
       "        [[ 1.        ,  1.        ,  1.        , ...,  1.        ,\n",
       "           1.        ,  1.        ],\n",
       "         [ 1.        ,  1.        ,  1.        , ...,  1.        ,\n",
       "           1.        ,  1.        ],\n",
       "         [ 1.        ,  1.        ,  1.        , ...,  1.        ,\n",
       "           1.        ,  1.        ],\n",
       "         ..., \n",
       "         [ 1.        ,  1.        ,  1.        , ...,  1.        ,\n",
       "           1.        ,  1.        ],\n",
       "         [ 1.        ,  1.        ,  1.        , ...,  1.        ,\n",
       "           1.        ,  1.        ],\n",
       "         [ 1.        ,  1.        ,  1.        , ...,  1.        ,\n",
       "           1.        ,  1.        ]],\n",
       "\n",
       "        [[ 1.        ,  1.        ,  1.        , ...,  1.        ,\n",
       "           1.        ,  1.        ],\n",
       "         [ 1.        ,  1.        ,  1.        , ...,  1.        ,\n",
       "           1.        ,  1.        ],\n",
       "         [ 1.        ,  1.        ,  1.        , ...,  1.        ,\n",
       "           1.        ,  1.        ],\n",
       "         ..., \n",
       "         [ 1.        ,  1.        ,  1.        , ...,  1.        ,\n",
       "           1.        ,  1.        ],\n",
       "         [ 1.        ,  1.        ,  1.        , ...,  1.        ,\n",
       "           1.        ,  1.        ],\n",
       "         [ 1.        ,  1.        ,  1.        , ...,  1.        ,\n",
       "           1.        ,  1.        ]]],\n",
       "\n",
       "\n",
       "       [[[ 0.        ,  0.        ,  0.        , ...,  0.        ,\n",
       "           0.        ,  0.        ],\n",
       "         [ 0.        ,  0.        ,  0.        , ...,  0.        ,\n",
       "           0.        ,  0.        ],\n",
       "         [ 0.        ,  0.        ,  0.        , ...,  0.        ,\n",
       "           0.        ,  0.        ],\n",
       "         ..., \n",
       "         [ 1.        ,  1.        ,  1.        , ...,  1.        ,\n",
       "           1.        ,  1.        ],\n",
       "         [ 1.        ,  1.        ,  1.        , ...,  1.        ,\n",
       "           1.        ,  1.        ],\n",
       "         [ 1.        ,  1.        ,  1.        , ...,  1.        ,\n",
       "           1.        ,  1.        ]],\n",
       "\n",
       "        [[ 0.        ,  0.        ,  0.        , ...,  0.        ,\n",
       "           0.        ,  0.        ],\n",
       "         [ 0.        ,  0.        ,  0.        , ...,  0.        ,\n",
       "           0.        ,  0.        ],\n",
       "         [ 0.        ,  0.        ,  0.        , ...,  0.        ,\n",
       "           0.        ,  0.        ],\n",
       "         ..., \n",
       "         [ 1.        ,  1.        ,  1.        , ...,  1.        ,\n",
       "           1.        ,  1.        ],\n",
       "         [ 1.        ,  1.        ,  1.        , ...,  1.        ,\n",
       "           1.        ,  1.        ],\n",
       "         [ 1.        ,  1.        ,  1.        , ...,  1.        ,\n",
       "           1.        ,  1.        ]],\n",
       "\n",
       "        [[ 0.        ,  0.        ,  0.        , ...,  0.        ,\n",
       "           0.        ,  0.        ],\n",
       "         [ 0.        ,  0.        ,  0.        , ...,  0.        ,\n",
       "           0.        ,  0.        ],\n",
       "         [ 0.        ,  0.        ,  0.        , ...,  0.        ,\n",
       "           0.        ,  0.        ],\n",
       "         ..., \n",
       "         [ 1.        ,  1.        ,  1.        , ...,  1.        ,\n",
       "           1.        ,  1.        ],\n",
       "         [ 1.        ,  1.        ,  1.        , ...,  1.        ,\n",
       "           1.        ,  1.        ],\n",
       "         [ 1.        ,  1.        ,  1.        , ...,  1.        ,\n",
       "           1.        ,  1.        ]]],\n",
       "\n",
       "\n",
       "       [[[ 1.        ,  1.        ,  1.        , ...,  1.        ,\n",
       "           1.        ,  1.        ],\n",
       "         [ 1.        ,  1.        ,  1.        , ...,  1.        ,\n",
       "           1.        ,  1.        ],\n",
       "         [ 1.        ,  1.        ,  1.        , ...,  1.        ,\n",
       "           1.        ,  1.        ],\n",
       "         ..., \n",
       "         [ 1.        ,  1.        ,  1.        , ...,  1.        ,\n",
       "           1.        ,  1.        ],\n",
       "         [ 1.        ,  1.        ,  1.        , ...,  1.        ,\n",
       "           1.        ,  1.        ],\n",
       "         [ 1.        ,  1.        ,  1.        , ...,  1.        ,\n",
       "           1.        ,  1.        ]],\n",
       "\n",
       "        [[ 1.        ,  1.        ,  1.        , ...,  1.        ,\n",
       "           1.        ,  1.        ],\n",
       "         [ 1.        ,  1.        ,  1.        , ...,  1.        ,\n",
       "           1.        ,  1.        ],\n",
       "         [ 1.        ,  1.        ,  1.        , ...,  1.        ,\n",
       "           1.        ,  1.        ],\n",
       "         ..., \n",
       "         [ 1.        ,  1.        ,  1.        , ...,  1.        ,\n",
       "           1.        ,  1.        ],\n",
       "         [ 1.        ,  1.        ,  1.        , ...,  1.        ,\n",
       "           1.        ,  1.        ],\n",
       "         [ 1.        ,  1.        ,  1.        , ...,  1.        ,\n",
       "           1.        ,  1.        ]],\n",
       "\n",
       "        [[ 1.        ,  1.        ,  1.        , ...,  1.        ,\n",
       "           1.        ,  1.        ],\n",
       "         [ 1.        ,  1.        ,  1.        , ...,  1.        ,\n",
       "           1.        ,  1.        ],\n",
       "         [ 1.        ,  1.        ,  1.        , ...,  1.        ,\n",
       "           1.        ,  1.        ],\n",
       "         ..., \n",
       "         [ 1.        ,  1.        ,  1.        , ...,  1.        ,\n",
       "           1.        ,  1.        ],\n",
       "         [ 1.        ,  1.        ,  1.        , ...,  1.        ,\n",
       "           1.        ,  1.        ],\n",
       "         [ 1.        ,  1.        ,  1.        , ...,  1.        ,\n",
       "           1.        ,  1.        ]]]], dtype=float32)"
      ]
     },
     "execution_count": 22,
     "metadata": {},
     "output_type": "execute_result"
    }
   ],
   "source": [
    "np.asarray(x_train)"
   ]
  },
  {
   "cell_type": "code",
   "execution_count": null,
   "metadata": {
    "collapsed": false
   },
   "outputs": [],
   "source": []
  },
  {
   "cell_type": "code",
   "execution_count": null,
   "metadata": {
    "collapsed": false
   },
   "outputs": [],
   "source": []
  },
  {
   "cell_type": "code",
   "execution_count": null,
   "metadata": {
    "collapsed": false
   },
   "outputs": [],
   "source": []
  },
  {
   "cell_type": "code",
   "execution_count": null,
   "metadata": {
    "collapsed": false
   },
   "outputs": [],
   "source": []
  },
  {
   "cell_type": "code",
   "execution_count": null,
   "metadata": {
    "collapsed": false
   },
   "outputs": [],
   "source": []
  },
  {
   "cell_type": "code",
   "execution_count": null,
   "metadata": {
    "collapsed": false
   },
   "outputs": [],
   "source": []
  },
  {
   "cell_type": "code",
   "execution_count": null,
   "metadata": {
    "collapsed": false
   },
   "outputs": [],
   "source": []
  },
  {
   "cell_type": "code",
   "execution_count": null,
   "metadata": {
    "collapsed": false
   },
   "outputs": [],
   "source": []
  },
  {
   "cell_type": "code",
   "execution_count": null,
   "metadata": {
    "collapsed": false
   },
   "outputs": [],
   "source": []
  },
  {
   "cell_type": "code",
   "execution_count": null,
   "metadata": {
    "collapsed": false
   },
   "outputs": [],
   "source": []
  },
  {
   "cell_type": "code",
   "execution_count": null,
   "metadata": {
    "collapsed": false
   },
   "outputs": [],
   "source": []
  },
  {
   "cell_type": "code",
   "execution_count": null,
   "metadata": {
    "collapsed": false
   },
   "outputs": [],
   "source": []
  },
  {
   "cell_type": "code",
   "execution_count": null,
   "metadata": {
    "collapsed": false
   },
   "outputs": [],
   "source": []
  },
  {
   "cell_type": "code",
   "execution_count": null,
   "metadata": {
    "collapsed": false
   },
   "outputs": [],
   "source": [
    "\n"
   ]
  },
  {
   "cell_type": "code",
   "execution_count": null,
   "metadata": {
    "collapsed": false
   },
   "outputs": [],
   "source": []
  },
  {
   "cell_type": "code",
   "execution_count": null,
   "metadata": {
    "collapsed": false
   },
   "outputs": [],
   "source": [
    "\n"
   ]
  },
  {
   "cell_type": "code",
   "execution_count": null,
   "metadata": {
    "collapsed": false
   },
   "outputs": [],
   "source": []
  },
  {
   "cell_type": "code",
   "execution_count": null,
   "metadata": {
    "collapsed": true
   },
   "outputs": [],
   "source": []
  }
 ],
 "metadata": {
  "anaconda-cloud": {},
  "kernelspec": {
   "display_name": "Python [default]",
   "language": "python",
   "name": "python2"
  },
  "language_info": {
   "codemirror_mode": {
    "name": "ipython",
    "version": 2
   },
   "file_extension": ".py",
   "mimetype": "text/x-python",
   "name": "python",
   "nbconvert_exporter": "python",
   "pygments_lexer": "ipython2",
   "version": "2.7.12"
  }
 },
 "nbformat": 4,
 "nbformat_minor": 0
}
